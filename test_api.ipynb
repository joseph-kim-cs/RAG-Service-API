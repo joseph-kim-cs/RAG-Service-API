{
 "cells": [
  {
   "cell_type": "code",
   "execution_count": 1,
   "id": "b49f874b",
   "metadata": {},
   "outputs": [
    {
     "name": "stdout",
     "output_type": "stream",
     "text": [
      "{\"data\":{\"llm_response\":\"\\n\\nTo get access to the IBM Partner Portal, you need to be classified as an 'Opportunity Management Focal' role. If you need to change a person's access to the tool, a Partner Administrator (PA) from your company will need to follow these steps: enter the IBM Partner Portal, select 'Company management' and then 'Company profile', and then edit or add new roles in the employee list. If you have questions or need help, you can contact the Partner Support Desk. Additionally, individual users must be granted access by their Partner Administrator to access certain features like the incentives dashboard.\"},\"status\":\"success\",\"message\":\"Successfully queried Milvus.\"}\n"
     ]
    }
   ],
   "source": [
    "import requests\n",
    "import json\n",
    "\n",
    "url = \"http://0.0.0.0:3001/query\"\n",
    "\n",
    "payload = json.dumps({\n",
    "  \"query\": \"how do i get access?\",\n",
    "  \"collection_name\": \"askbuild_collection\"\n",
    "})\n",
    "headers = {\n",
    "  'REST_API_KEY': 'secret',\n",
    "  'Content-Type': 'application/json'\n",
    "}\n",
    "\n",
    "response = requests.request(\"POST\", url, headers=headers, data=payload)\n",
    "\n",
    "print(response.text)\n"
   ]
  },
  {
   "cell_type": "code",
   "execution_count": 4,
   "id": "83fb6bd1",
   "metadata": {},
   "outputs": [
    {
     "name": "stdout",
     "output_type": "stream",
     "text": [
      "\n",
      "\n",
      "To get access to the IBM Partner Portal, you need to be classified as an 'Opportunity Management Focal' role. If you need to change a person's access to the tool, a Partner Administrator (PA) from your company will need to follow these steps: enter the IBM Partner Portal, select 'Company management' and then 'Company profile', and then edit or add new roles in the employee list. If you have questions or need help, you can contact the Partner Support Desk. Additionally, individual users must be granted access by their Partner Administrator to access certain features like the incentives dashboard.\n"
     ]
    }
   ],
   "source": [
    "answer = json.loads(response.text)['data']['llm_response']\n",
    "print(answer)"
   ]
  }
 ],
 "metadata": {
  "kernelspec": {
   "display_name": "virtual-env",
   "language": "python",
   "name": "python3"
  },
  "language_info": {
   "codemirror_mode": {
    "name": "ipython",
    "version": 3
   },
   "file_extension": ".py",
   "mimetype": "text/x-python",
   "name": "python",
   "nbconvert_exporter": "python",
   "pygments_lexer": "ipython3",
   "version": "3.11.9"
  }
 },
 "nbformat": 4,
 "nbformat_minor": 5
}
